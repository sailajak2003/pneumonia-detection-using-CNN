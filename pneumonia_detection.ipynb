{
  "nbformat": 4,
  "nbformat_minor": 0,
  "metadata": {
    "colab": {
      "name": "pneumonia detection.ipynb",
      "provenance": [],
      "mount_file_id": "1_z3KsaB5DeqX4zYrxAulK5vN3P-hUoZr",
      "authorship_tag": "ABX9TyPAoPXew6QUAxdBAn2PIiP6"
    },
    "kernelspec": {
      "name": "python3",
      "display_name": "Python 3"
    }
  },
  "cells": [
    {
      "cell_type": "code",
      "metadata": {
        "id": "wDHHK9u3zWJ1",
        "colab_type": "code",
        "colab": {}
      },
      "source": [
        "import tensorflow as tf\n",
        "import tensorflow.keras as keras\n",
        "from tensorflow.keras.models import Sequential\n",
        "from tensorflow.keras.layers import Dense,Flatten,Conv2D,MaxPooling2D\n",
        "\n",
        "import matplotlib.pyplot as plt\n",
        "%matplotlib inline\n",
        "import os"
      ],
      "execution_count": 4,
      "outputs": []
    },
    {
      "cell_type": "code",
      "metadata": {
        "id": "eLvW61fUz8VC",
        "colab_type": "code",
        "colab": {}
      },
      "source": [
        "train_pneumonia_dir=os.path.join('/content/drive/My Drive/chest_xray/train/PNEUMONIA')\n",
        "train_normal_dir=os.path.join('/content/drive/My Drive/chest_xray/train/NORMAL')"
      ],
      "execution_count": 6,
      "outputs": []
    },
    {
      "cell_type": "code",
      "metadata": {
        "id": "ZcxLTrYWZW7l",
        "colab_type": "code",
        "colab": {}
      },
      "source": [
        "val_pneumonia_dir=os.path.join('/content/drive/My Drive/chest_xray/val/PNEUMONIA')\n",
        "val_normal_dir=os.path.join('/content/drive/My Drive/chest_xray/val/NORMAL')"
      ],
      "execution_count": 7,
      "outputs": []
    },
    {
      "cell_type": "code",
      "metadata": {
        "id": "yxy8OFa1bZ11",
        "colab_type": "code",
        "colab": {}
      },
      "source": [
        "test_pneumonia_dir=os.path.join('/content/drive/My Drive/chest_xray/test/PNEUMONIA')\n",
        "test_normal_dir=os.path.join('/content/drive/My Drive/chest_xray/test/NORMAL')"
      ],
      "execution_count": 8,
      "outputs": []
    },
    {
      "cell_type": "code",
      "metadata": {
        "id": "gBsgzbVsbvmS",
        "colab_type": "code",
        "colab": {}
      },
      "source": [
        ""
      ],
      "execution_count": 9,
      "outputs": []
    },
    {
      "cell_type": "code",
      "metadata": {
        "id": "b3NBN1lPcBIt",
        "colab_type": "code",
        "colab": {
          "base_uri": "https://localhost:8080/",
          "height": 50
        },
        "outputId": "255d8f0d-6826-48c2-9e20-d4fe5f1a829e"
      },
      "source": [
        "print(f'length of train pneumonia:{len(os.listdir(train_pneumonia_dir))}')\n",
        "print(f'length of train normal:{len(os.listdir(train_normal_dir))}')"
      ],
      "execution_count": 12,
      "outputs": [
        {
          "output_type": "stream",
          "text": [
            "length of train pneumonia:3875\n",
            "length of train normal:1345\n"
          ],
          "name": "stdout"
        }
      ]
    },
    {
      "cell_type": "code",
      "metadata": {
        "id": "5ZidTojCcldA",
        "colab_type": "code",
        "colab": {
          "base_uri": "https://localhost:8080/",
          "height": 50
        },
        "outputId": "e2de7172-57c6-4265-dea3-b51c506fee48"
      },
      "source": [
        "print(f'length of val pneumonia:{len(os.listdir(val_pneumonia_dir))}')\n",
        "print(f'length of val normal:{len(os.listdir(val_normal_dir))}')"
      ],
      "execution_count": 13,
      "outputs": [
        {
          "output_type": "stream",
          "text": [
            "length of val pneumonia:8\n",
            "length of val normal:8\n"
          ],
          "name": "stdout"
        }
      ]
    },
    {
      "cell_type": "code",
      "metadata": {
        "id": "PncT2GERdBKi",
        "colab_type": "code",
        "colab": {
          "base_uri": "https://localhost:8080/",
          "height": 50
        },
        "outputId": "a8340283-e63f-4eed-a4d7-33a52f3ac59b"
      },
      "source": [
        "print(f'length of test pneumonia:{len(os.listdir(test_pneumonia_dir))}')\n",
        "print(f'length of test normal:{len(os.listdir(test_normal_dir))}')"
      ],
      "execution_count": 14,
      "outputs": [
        {
          "output_type": "stream",
          "text": [
            "length of test pneumonia:390\n",
            "length of test normal:234\n"
          ],
          "name": "stdout"
        }
      ]
    },
    {
      "cell_type": "code",
      "metadata": {
        "id": "zzngzPQOdIzA",
        "colab_type": "code",
        "colab": {}
      },
      "source": [
        ""
      ],
      "execution_count": null,
      "outputs": []
    }
  ]
}