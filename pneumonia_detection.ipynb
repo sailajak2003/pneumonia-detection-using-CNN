{
  "nbformat": 4,
  "nbformat_minor": 0,
  "metadata": {
    "colab": {
      "name": "pneumonia detection.ipynb",
      "provenance": [],
      "collapsed_sections": [],
      "toc_visible": true,
      "machine_shape": "hm",
      "mount_file_id": "1_z3KsaB5DeqX4zYrxAulK5vN3P-hUoZr",
      "authorship_tag": "ABX9TyPDMD83+feDKA3kR6PevGWu"
    },
    "kernelspec": {
      "name": "python3",
      "display_name": "Python 3"
    },
    "accelerator": "GPU"
  },
  "cells": [
    {
      "cell_type": "code",
      "metadata": {
        "id": "wDHHK9u3zWJ1",
        "colab_type": "code",
        "colab": {}
      },
      "source": [
        "import tensorflow as tf\n",
        "import tensorflow.keras as keras\n",
        "from tensorflow.keras.models import Sequential\n",
        "from tensorflow.keras.layers import Dense,Flatten,Conv2D,MaxPooling2D\n",
        "from tensorflow.keras.preprocessing.image import ImageDataGenerator\n",
        "\n",
        "from imblearn.over_sampling import SMOTE\n",
        "import matplotlib.pyplot as plt\n",
        "%matplotlib inline\n",
        "import seaborn as sns\n",
        "import os"
      ],
      "execution_count": 141,
      "outputs": []
    },
    {
      "cell_type": "code",
      "metadata": {
        "id": "eLvW61fUz8VC",
        "colab_type": "code",
        "colab": {}
      },
      "source": [
        "train_pneumonia_dir=os.path.join('/content/drive/My Drive/chest_xray/train/PNEUMONIA')\n",
        "train_normal_dir=os.path.join('/content/drive/My Drive/chest_xray/train/NORMAL')"
      ],
      "execution_count": 142,
      "outputs": []
    },
    {
      "cell_type": "code",
      "metadata": {
        "id": "ZcxLTrYWZW7l",
        "colab_type": "code",
        "colab": {}
      },
      "source": [
        "val_pneumonia_dir=os.path.join('/content/drive/My Drive/chest_xray/val/PNEUMONIA')\n",
        "val_normal_dir=os.path.join('/content/drive/My Drive/chest_xray/val/NORMAL')"
      ],
      "execution_count": 143,
      "outputs": []
    },
    {
      "cell_type": "code",
      "metadata": {
        "id": "yxy8OFa1bZ11",
        "colab_type": "code",
        "colab": {}
      },
      "source": [
        "test_pneumonia_dir=os.path.join('/content/drive/My Drive/chest_xray/test/PNEUMONIA')\n",
        "test_normal_dir=os.path.join('/content/drive/My Drive/chest_xray/test/NORMAL')"
      ],
      "execution_count": 144,
      "outputs": []
    },
    {
      "cell_type": "code",
      "metadata": {
        "id": "b3NBN1lPcBIt",
        "colab_type": "code",
        "colab": {
          "base_uri": "https://localhost:8080/",
          "height": 50
        },
        "outputId": "076fb712-f92c-4915-f175-d1180b9e27f5"
      },
      "source": [
        "X_train_pnuemonia=print(f'length of train pneumonia:{len(os.listdir(train_pneumonia_dir))}')\n",
        "X_train_normal=print(f'length of train normal:{len(os.listdir(train_normal_dir))}')"
      ],
      "execution_count": 145,
      "outputs": [
        {
          "output_type": "stream",
          "text": [
            "length of train pneumonia:3875\n",
            "length of train normal:1345\n"
          ],
          "name": "stdout"
        }
      ]
    },
    {
      "cell_type": "code",
      "metadata": {
        "id": "5ZidTojCcldA",
        "colab_type": "code",
        "colab": {
          "base_uri": "https://localhost:8080/",
          "height": 50
        },
        "outputId": "f717bb19-abe5-4d67-b7ad-8b319649e152"
      },
      "source": [
        "print(f'length of val pneumonia:{len(os.listdir(val_pneumonia_dir))}')\n",
        "print(f'length of val normal:{len(os.listdir(val_normal_dir))}')"
      ],
      "execution_count": 146,
      "outputs": [
        {
          "output_type": "stream",
          "text": [
            "length of val pneumonia:8\n",
            "length of val normal:8\n"
          ],
          "name": "stdout"
        }
      ]
    },
    {
      "cell_type": "code",
      "metadata": {
        "id": "PncT2GERdBKi",
        "colab_type": "code",
        "colab": {
          "base_uri": "https://localhost:8080/",
          "height": 50
        },
        "outputId": "ba2d51b3-3a07-497d-b1a1-6953467fb7cb"
      },
      "source": [
        "print(f'length of test pneumonia:{len(os.listdir(test_pneumonia_dir))}')\n",
        "print(f'length of test normal:{len(os.listdir(test_normal_dir))}')"
      ],
      "execution_count": 147,
      "outputs": [
        {
          "output_type": "stream",
          "text": [
            "length of test pneumonia:390\n",
            "length of test normal:234\n"
          ],
          "name": "stdout"
        }
      ]
    },
    {
      "cell_type": "code",
      "metadata": {
        "id": "zzngzPQOdIzA",
        "colab_type": "code",
        "colab": {}
      },
      "source": [
        "train_gen=ImageDataGenerator(rescale=1/255)\n",
        "test_gen=ImageDataGenerator(rescale=1/255)\n",
        "val_gen=ImageDataGenerator(rescale=1/255)"
      ],
      "execution_count": 148,
      "outputs": []
    },
    {
      "cell_type": "code",
      "metadata": {
        "id": "5jRowDLi8RYn",
        "colab_type": "code",
        "colab": {}
      },
      "source": [
        "tar_size = (512,256)"
      ],
      "execution_count": 149,
      "outputs": []
    },
    {
      "cell_type": "code",
      "metadata": {
        "id": "9TMy3C6sd7WV",
        "colab_type": "code",
        "colab": {
          "base_uri": "https://localhost:8080/",
          "height": 34
        },
        "outputId": "e1d02031-b881-4192-959f-09e86d1a330b"
      },
      "source": [
        "train_generator=train_gen.flow_from_directory('/content/drive/My Drive/chest_xray/train',\n",
        "                                              target_size=tar_size,batch_size=32,class_mode='binary')"
      ],
      "execution_count": 150,
      "outputs": [
        {
          "output_type": "stream",
          "text": [
            "Found 5220 images belonging to 2 classes.\n"
          ],
          "name": "stdout"
        }
      ]
    },
    {
      "cell_type": "code",
      "metadata": {
        "id": "xHgh6ib_pDMX",
        "colab_type": "code",
        "colab": {
          "base_uri": "https://localhost:8080/",
          "height": 34
        },
        "outputId": "fc66ac1d-5214-40ee-f387-004cdb01b7f8"
      },
      "source": [
        "test_generator=test_gen.flow_from_directory('/content/drive/My Drive/chest_xray/test',target_size=tar_size,\n",
        "                                            batch_size=32,class_mode='binary')"
      ],
      "execution_count": 151,
      "outputs": [
        {
          "output_type": "stream",
          "text": [
            "Found 624 images belonging to 2 classes.\n"
          ],
          "name": "stdout"
        }
      ]
    },
    {
      "cell_type": "code",
      "metadata": {
        "id": "QwvmwibywIrn",
        "colab_type": "code",
        "colab": {
          "base_uri": "https://localhost:8080/",
          "height": 34
        },
        "outputId": "9a0b4ede-ac26-41b1-a01e-55aa47d0e4b0"
      },
      "source": [
        "val_generator=val_gen.flow_from_directory('/content/drive/My Drive/chest_xray/val',target_size=tar_size,\n",
        "                                          batch_size=32,class_mode='binary')"
      ],
      "execution_count": 152,
      "outputs": [
        {
          "output_type": "stream",
          "text": [
            "Found 16 images belonging to 2 classes.\n"
          ],
          "name": "stdout"
        }
      ]
    },
    {
      "cell_type": "code",
      "metadata": {
        "id": "x-GkXK-WQZy9",
        "colab_type": "code",
        "colab": {}
      },
      "source": [
        "class myCallback(tf.keras.callbacks.Callback):\n",
        "  def on_epoch_end(self, epoch, logs={}):\n",
        "    if(logs.get('accuracy')>0.95):\n",
        "      print(\"\\nReached 95% accuracy so cancelling training!\")\n",
        "      self.model.stop_training = True\n",
        "\n",
        "callbacks = myCallback()"
      ],
      "execution_count": 153,
      "outputs": []
    },
    {
      "cell_type": "code",
      "metadata": {
        "id": "vHiIkRXpwaY7",
        "colab_type": "code",
        "colab": {}
      },
      "source": [
        "model = tf.keras.models.Sequential([\n",
        "    # Note the input shape is the desired size of the image 150x150 with 3 bytes color\n",
        "    # This is the first convolution\n",
        "    tf.keras.layers.Conv2D(16, (3,3), activation='relu', input_shape=(512, 256, 3),padding='same'),\n",
        "    tf.keras.layers.MaxPooling2D(2, 2,padding='same'),\n",
        "    # The second convolution\n",
        "    tf.keras.layers.Conv2D(32, (3,3), activation='relu',padding='same'),\n",
        "    tf.keras.layers.MaxPooling2D(2,2,padding='same'),\n",
        "    # The third convolution\n",
        "    tf.keras.layers.Conv2D(64, (3,3), activation='relu',padding='same'),\n",
        "    tf.keras.layers.MaxPooling2D(2,2,padding='same'),\n",
        "    \n",
        "    # Flatten the results to feed into a DNN\n",
        "    #tf.keras.layers.Flatten(input_shape=(500,300,1)),\n",
        "    tf.keras.layers.Flatten(),\n",
        "    # 512 neuron hidden layer\n",
        "    tf.keras.layers.Dense(512, activation='relu'),\n",
        "    # Only 1 output neuron. It will contain a value from 0-1 where 0 for 1 class ('horses') and 1 for the other ('humans')\n",
        "    tf.keras.layers.Dense(1, activation='sigmoid')\n",
        "])"
      ],
      "execution_count": 154,
      "outputs": []
    },
    {
      "cell_type": "code",
      "metadata": {
        "id": "8fnK8xwd1E7Z",
        "colab_type": "code",
        "colab": {
          "base_uri": "https://localhost:8080/",
          "height": 454
        },
        "outputId": "c15d9952-bfb8-4058-935a-53fbb5b53eb7"
      },
      "source": [
        "model.summary()"
      ],
      "execution_count": 155,
      "outputs": [
        {
          "output_type": "stream",
          "text": [
            "Model: \"sequential_18\"\n",
            "_________________________________________________________________\n",
            "Layer (type)                 Output Shape              Param #   \n",
            "=================================================================\n",
            "conv2d_43 (Conv2D)           (None, 512, 256, 16)      448       \n",
            "_________________________________________________________________\n",
            "max_pooling2d_43 (MaxPooling (None, 256, 128, 16)      0         \n",
            "_________________________________________________________________\n",
            "conv2d_44 (Conv2D)           (None, 256, 128, 32)      4640      \n",
            "_________________________________________________________________\n",
            "max_pooling2d_44 (MaxPooling (None, 128, 64, 32)       0         \n",
            "_________________________________________________________________\n",
            "conv2d_45 (Conv2D)           (None, 128, 64, 64)       18496     \n",
            "_________________________________________________________________\n",
            "max_pooling2d_45 (MaxPooling (None, 64, 32, 64)        0         \n",
            "_________________________________________________________________\n",
            "flatten_18 (Flatten)         (None, 131072)            0         \n",
            "_________________________________________________________________\n",
            "dense_36 (Dense)             (None, 512)               67109376  \n",
            "_________________________________________________________________\n",
            "dense_37 (Dense)             (None, 1)                 513       \n",
            "=================================================================\n",
            "Total params: 67,133,473\n",
            "Trainable params: 67,133,473\n",
            "Non-trainable params: 0\n",
            "_________________________________________________________________\n"
          ],
          "name": "stdout"
        }
      ]
    },
    {
      "cell_type": "code",
      "metadata": {
        "id": "KLdcqFwywuDD",
        "colab_type": "code",
        "colab": {}
      },
      "source": [
        "model.compile(loss='binary_crossentropy',\n",
        "              optimizer='Adam',\n",
        "              metrics=['accuracy'])"
      ],
      "execution_count": 156,
      "outputs": []
    },
    {
      "cell_type": "code",
      "metadata": {
        "id": "iDJiR3g8yVm6",
        "colab_type": "code",
        "colab": {}
      },
      "source": [
        "from sklearn.utils import class_weight\n",
        "import numpy as np\n",
        "\n",
        "my_class_weights = class_weight.compute_class_weight(\n",
        "                                          'balanced',\n",
        "                                          np.unique(train_generator.classes),\n",
        "                                          train_generator.classes)\n",
        "\n",
        "weight = {i : my_class_weights[i] for i in range(len(my_class_weights))}"
      ],
      "execution_count": 157,
      "outputs": []
    },
    {
      "cell_type": "code",
      "metadata": {
        "id": "_htb-nqRzRnv",
        "colab_type": "code",
        "colab": {
          "base_uri": "https://localhost:8080/",
          "height": 34
        },
        "outputId": "46dec6ce-eb58-4e6c-b1f1-922750b674ef"
      },
      "source": [
        "weight"
      ],
      "execution_count": 158,
      "outputs": [
        {
          "output_type": "execute_result",
          "data": {
            "text/plain": [
              "{0: 1.9405204460966543, 1: 0.6735483870967742}"
            ]
          },
          "metadata": {
            "tags": []
          },
          "execution_count": 158
        }
      ]
    },
    {
      "cell_type": "code",
      "metadata": {
        "id": "isORUlndwzru",
        "colab_type": "code",
        "colab": {
          "base_uri": "https://localhost:8080/",
          "height": 138
        },
        "outputId": "4ee1c8c2-d4f4-446a-a4ee-fbaadcb5b725"
      },
      "source": [
        "history = model.fit(\n",
        "      train_generator,\n",
        "      epochs=15,\n",
        "      verbose=1,\n",
        "      validation_data=val_generator,\n",
        "      class_weight = weight,callbacks=[callbacks])"
      ],
      "execution_count": 159,
      "outputs": [
        {
          "output_type": "stream",
          "text": [
            "Epoch 1/15\n",
            "164/164 [==============================] - 91s 553ms/step - loss: 0.3159 - accuracy: 0.8977 - val_loss: 0.1154 - val_accuracy: 0.9375\n",
            "Epoch 2/15\n",
            "164/164 [==============================] - ETA: 0s - loss: 0.0918 - accuracy: 0.9623\n",
            "Reached 95% accuracy so cancelling training!\n",
            "164/164 [==============================] - 62s 378ms/step - loss: 0.0918 - accuracy: 0.9623 - val_loss: 0.0362 - val_accuracy: 1.0000\n"
          ],
          "name": "stdout"
        }
      ]
    },
    {
      "cell_type": "code",
      "metadata": {
        "id": "1z4gVL0dw9Zg",
        "colab_type": "code",
        "colab": {}
      },
      "source": [
        ""
      ],
      "execution_count": null,
      "outputs": []
    }
  ]
}